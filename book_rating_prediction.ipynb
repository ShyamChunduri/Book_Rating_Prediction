{
 "cells": [
  {
   "cell_type": "markdown",
   "metadata": {
    "id": "nJWbZd6RduQc"
   },
   "source": [
    "# Predicting Book Ratings Using K-Nearest Neighbor\n",
    "\n",
    "## Required Libraries"
   ]
  },
  {
   "cell_type": "code",
   "execution_count": 1,
   "metadata": {
    "id": "lb-HiMLaUEkD"
   },
   "outputs": [],
   "source": [
    "import pandas as pd\n",
    "from sklearn.model_selection import train_test_split\n",
    "from sklearn.neighbors import KNeighborsClassifier\n",
    "from sklearn import metrics\n",
    "from sklearn.preprocessing import LabelEncoder\n"
   ]
  },
  {
   "cell_type": "markdown",
   "metadata": {
    "id": "IIgJ7L8vdp81"
   },
   "source": [
    "## Importing Data"
   ]
  },
  {
   "cell_type": "code",
   "execution_count": 2,
   "metadata": {
    "colab": {
     "base_uri": "https://localhost:8080/"
    },
    "id": "PmchFEq2SfB8",
    "outputId": "23f63bb9-4812-4aa3-aa20-c67fab53bdf8"
   },
   "outputs": [],
   "source": [
    "# import data into colab\n",
    "\n",
    "ratings_df = pd.read_csv(\"Ratings.csv\", sep=';', encoding='latin-1',low_memory=False)\n",
    "books_df = pd.read_csv(\"Books.csv\", sep=';', encoding='latin-1',low_memory=False, on_bad_lines='skip')\n",
    "users_df = pd.read_csv(\"Users.csv\", sep=';', encoding='latin-1',low_memory=False,on_bad_lines='skip')"
   ]
  },
  {
   "cell_type": "code",
   "execution_count": 3,
   "metadata": {
    "colab": {
     "base_uri": "https://localhost:8080/"
    },
    "id": "1nakNQQScGB4",
    "outputId": "38a90370-821b-454e-ec0d-c10484b2c9bd"
   },
   "outputs": [
    {
     "data": {
      "text/html": [
       "<div>\n",
       "<style scoped>\n",
       "    .dataframe tbody tr th:only-of-type {\n",
       "        vertical-align: middle;\n",
       "    }\n",
       "\n",
       "    .dataframe tbody tr th {\n",
       "        vertical-align: top;\n",
       "    }\n",
       "\n",
       "    .dataframe thead th {\n",
       "        text-align: right;\n",
       "    }\n",
       "</style>\n",
       "<table border=\"1\" class=\"dataframe\">\n",
       "  <thead>\n",
       "    <tr style=\"text-align: right;\">\n",
       "      <th></th>\n",
       "      <th>User-ID</th>\n",
       "      <th>ISBN</th>\n",
       "      <th>Book-Rating</th>\n",
       "    </tr>\n",
       "  </thead>\n",
       "  <tbody>\n",
       "    <tr>\n",
       "      <th>0</th>\n",
       "      <td>276725</td>\n",
       "      <td>034545104X</td>\n",
       "      <td>0</td>\n",
       "    </tr>\n",
       "    <tr>\n",
       "      <th>1</th>\n",
       "      <td>276726</td>\n",
       "      <td>0155061224</td>\n",
       "      <td>5</td>\n",
       "    </tr>\n",
       "    <tr>\n",
       "      <th>2</th>\n",
       "      <td>276727</td>\n",
       "      <td>0446520802</td>\n",
       "      <td>0</td>\n",
       "    </tr>\n",
       "  </tbody>\n",
       "</table>\n",
       "</div>"
      ],
      "text/plain": [
       "   User-ID        ISBN  Book-Rating\n",
       "0   276725  034545104X            0\n",
       "1   276726  0155061224            5\n",
       "2   276727  0446520802            0"
      ]
     },
     "execution_count": 3,
     "metadata": {},
     "output_type": "execute_result"
    }
   ],
   "source": [
    "# books df sample\n",
    "ratings_df.head(3)"
   ]
  },
  {
   "cell_type": "code",
   "execution_count": 4,
   "metadata": {
    "colab": {
     "base_uri": "https://localhost:8080/"
    },
    "id": "hdBjmLQJcMWS",
    "outputId": "a4ec8919-2e87-452d-b1a4-5e0a1127e5fc"
   },
   "outputs": [
    {
     "data": {
      "text/plain": [
       "<bound method NDFrame.head of         User-ID                            Location   Age\n",
       "0             1                  nyc, new york, usa   NaN\n",
       "1             2           stockton, california, usa  18.0\n",
       "2             3     moscow, yukon territory, russia   NaN\n",
       "3             4           porto, v.n.gaia, portugal  17.0\n",
       "4             5  farnborough, hants, united kingdom   NaN\n",
       "...         ...                                 ...   ...\n",
       "278853   278854               portland, oregon, usa   NaN\n",
       "278854   278855  tacoma, washington, united kingdom  50.0\n",
       "278855   278856           brampton, ontario, canada   NaN\n",
       "278856   278857           knoxville, tennessee, usa   NaN\n",
       "278857   278858                dublin, n/a, ireland   NaN\n",
       "\n",
       "[278858 rows x 3 columns]>"
      ]
     },
     "execution_count": 4,
     "metadata": {},
     "output_type": "execute_result"
    }
   ],
   "source": [
    "# users df sample\n",
    "users_df.head"
   ]
  },
  {
   "cell_type": "markdown",
   "metadata": {
    "id": "dS6SX4wOdmio"
   },
   "source": [
    "## Data Preprocessing"
   ]
  },
  {
   "cell_type": "markdown",
   "metadata": {
    "id": "vetymMonecV0"
   },
   "source": [
    "### Check null values in datasets"
   ]
  },
  {
   "cell_type": "code",
   "execution_count": 5,
   "metadata": {
    "colab": {
     "base_uri": "https://localhost:8080/"
    },
    "id": "hCfjNShcfM4n",
    "outputId": "3aad65da-2b08-4249-82f1-6caf70fd455f"
   },
   "outputs": [
    {
     "name": "stdout",
     "output_type": "stream",
     "text": [
      "User-ID          0\n",
      "Location         0\n",
      "Age         110762\n",
      "dtype: int64\n",
      "User-ID     278858\n",
      "Location    278858\n",
      "Age         168096\n",
      "dtype: int64\n"
     ]
    }
   ],
   "source": [
    "# check null values\n",
    "print(users_df.isnull().sum())\n",
    "print(users_df.count())"
   ]
  },
  {
   "cell_type": "code",
   "execution_count": 6,
   "metadata": {
    "colab": {
     "base_uri": "https://localhost:8080/"
    },
    "id": "kAAJ8BK5foC7",
    "outputId": "91229b5c-fe5c-4b1a-94c8-3a0fdb8a222d"
   },
   "outputs": [
    {
     "name": "stdout",
     "output_type": "stream",
     "text": [
      "User-ID        0\n",
      "ISBN           0\n",
      "Book-Rating    0\n",
      "dtype: int64\n",
      "User-ID        1149780\n",
      "ISBN           1149780\n",
      "Book-Rating    1149780\n",
      "dtype: int64\n"
     ]
    }
   ],
   "source": [
    "print(ratings_df.isnull().sum())\n",
    "print(ratings_df.count())"
   ]
  },
  {
   "cell_type": "code",
   "execution_count": 7,
   "metadata": {
    "colab": {
     "base_uri": "https://localhost:8080/"
    },
    "id": "RO5wJzEofuXH",
    "outputId": "1f12227a-4788-4b84-951d-59d17d38c63a"
   },
   "outputs": [
    {
     "name": "stdout",
     "output_type": "stream",
     "text": [
      "ISBN                   0\n",
      "Book-Title             0\n",
      "Book-Author            1\n",
      "Year-Of-Publication    0\n",
      "Publisher              2\n",
      "Image-URL-S            0\n",
      "Image-URL-M            0\n",
      "Image-URL-L            3\n",
      "dtype: int64\n",
      "ISBN                   271360\n",
      "Book-Title             271360\n",
      "Book-Author            271359\n",
      "Year-Of-Publication    271360\n",
      "Publisher              271358\n",
      "Image-URL-S            271360\n",
      "Image-URL-M            271360\n",
      "Image-URL-L            271357\n",
      "dtype: int64\n"
     ]
    }
   ],
   "source": [
    "print(books_df.isnull().sum())\n",
    "print(books_df.count())"
   ]
  },
  {
   "cell_type": "markdown",
   "metadata": {
    "id": "TC9SX0v5f7dP"
   },
   "source": [
    "The dataset with the most null values is the users dataset specifically the age column. Age is going to be an important factor when predicting user ratings therefore missing null values in this column will be dropped and the remaining users used to make predictions for better accuracy."
   ]
  },
  {
   "cell_type": "code",
   "execution_count": 8,
   "metadata": {},
   "outputs": [
    {
     "name": "stdout",
     "output_type": "stream",
     "text": [
      "ISBN                   0\n",
      "Book-Title             0\n",
      "Book-Author            1\n",
      "Year-Of-Publication    0\n",
      "Publisher              2\n",
      "Image-URL-S            0\n",
      "Image-URL-M            0\n",
      "Image-URL-L            3\n",
      "dtype: int64\n",
      "ISBN                   271360\n",
      "Book-Title             271360\n",
      "Book-Author            271359\n",
      "Year-Of-Publication    271360\n",
      "Publisher              271358\n",
      "Image-URL-S            271360\n",
      "Image-URL-M            271360\n",
      "Image-URL-L            271357\n",
      "dtype: int64\n"
     ]
    }
   ],
   "source": [
    "print(books_df.isnull().sum())\n",
    "print(books_df.count())"
   ]
  },
  {
   "cell_type": "code",
   "execution_count": 9,
   "metadata": {},
   "outputs": [],
   "source": [
    "users_df = users_df.dropna()\n",
    "books_df = books_df.dropna()"
   ]
  },
  {
   "cell_type": "code",
   "execution_count": 10,
   "metadata": {},
   "outputs": [],
   "source": [
    "books_df['Year-Of-Publication'] = pd.to_numeric(books_df['Year-Of-Publication'], errors='coerce')\n",
    "books_df['Year-Of-Publication'] = books_df['Year-Of-Publication'].astype(int)"
   ]
  },
  {
   "cell_type": "markdown",
   "metadata": {
    "id": "Tx-IJXhjh3_d"
   },
   "source": [
    "### Rename Columns"
   ]
  },
  {
   "cell_type": "code",
   "execution_count": 11,
   "metadata": {
    "colab": {
     "base_uri": "https://localhost:8080/"
    },
    "id": "5qSoJt4lh6K6",
    "outputId": "533383eb-26fc-40ff-e804-dd121400a47a"
   },
   "outputs": [
    {
     "name": "stdout",
     "output_type": "stream",
     "text": [
      "Index(['user_id', 'Location', 'Age'], dtype='object')\n"
     ]
    },
    {
     "name": "stderr",
     "output_type": "stream",
     "text": [
      "C:\\Users\\shyam\\AppData\\Local\\Temp\\ipykernel_7636\\2161619005.py:1: SettingWithCopyWarning: \n",
      "A value is trying to be set on a copy of a slice from a DataFrame\n",
      "\n",
      "See the caveats in the documentation: https://pandas.pydata.org/pandas-docs/stable/user_guide/indexing.html#returning-a-view-versus-a-copy\n",
      "  users_df.rename(columns = {'User-ID':'user_id'}, inplace = True)\n"
     ]
    }
   ],
   "source": [
    "users_df.rename(columns = {'User-ID':'user_id'}, inplace = True)\n",
    "ratings_df.rename(columns = {'User-ID':'user_id'}, inplace = True)\n",
    "\n",
    "print(users_df.columns)"
   ]
  },
  {
   "cell_type": "markdown",
   "metadata": {
    "id": "7Ru1CumEkb-t"
   },
   "source": [
    "### Merge Datasets"
   ]
  },
  {
   "cell_type": "code",
   "execution_count": 12,
   "metadata": {
    "colab": {
     "base_uri": "https://localhost:8080/"
    },
    "id": "dVTBcNloebHD",
    "outputId": "2cf1a557-3b02-475c-d547-540296ecc280"
   },
   "outputs": [
    {
     "data": {
      "text/plain": [
       "<bound method NDFrame.head of         user_id                         Location   Age        ISBN  \\\n",
       "0             2        stockton, california, usa  18.0  0195153448   \n",
       "1            10       albacete, wisconsin, spain  26.0  1841721522   \n",
       "2            10       albacete, wisconsin, spain  26.0  8477024456   \n",
       "3            19                        weston, ,  14.0  0375759778   \n",
       "4            20     langhorne, pennsylvania, usa  19.0  0425163091   \n",
       "...         ...                              ...   ...         ...   \n",
       "840283   278851               dallas, texas, usa  33.0  1558531025   \n",
       "840284   278851               dallas, texas, usa  33.0  1566910102   \n",
       "840285   278851               dallas, texas, usa  33.0  1569661057   \n",
       "840286   278851               dallas, texas, usa  33.0  1885071213   \n",
       "840287   278852  brisbane, queensland, australia  32.0  0449907597   \n",
       "\n",
       "        Book-Rating  \n",
       "0                 0  \n",
       "1                 0  \n",
       "2                 6  \n",
       "3                 7  \n",
       "4                 0  \n",
       "...             ...  \n",
       "840283            8  \n",
       "840284            0  \n",
       "840285           10  \n",
       "840286            7  \n",
       "840287            8  \n",
       "\n",
       "[840288 rows x 5 columns]>"
      ]
     },
     "execution_count": 12,
     "metadata": {},
     "output_type": "execute_result"
    }
   ],
   "source": [
    "# merge ratings and users data frames first\n",
    "book_ratings = pd.merge(users_df, ratings_df, on=\"user_id\")\n",
    "book_ratings.head"
   ]
  },
  {
   "cell_type": "code",
   "execution_count": 13,
   "metadata": {
    "colab": {
     "base_uri": "https://localhost:8080/"
    },
    "id": "ECF35oe-ciSl",
    "outputId": "24a55928-07a8-49ff-fcdf-35be3bedd789"
   },
   "outputs": [
    {
     "data": {
      "text/plain": [
       "<bound method NDFrame.head of         user_id                     Location   Age        ISBN  Book-Rating  \\\n",
       "0             2    stockton, california, usa  18.0  0195153448            0   \n",
       "1            10   albacete, wisconsin, spain  26.0  1841721522            0   \n",
       "2          3675  barcelona, catalunya, spain  24.0  1841721522            0   \n",
       "3          6366        madrid, madrid, spain  20.0  1841721522            7   \n",
       "4         13872  barcelona, catalunya, spain  17.0  1841721522            0   \n",
       "...         ...                          ...   ...         ...          ...   \n",
       "753291   278851           dallas, texas, usa  33.0  0743203763            0   \n",
       "753292   278851           dallas, texas, usa  33.0  0767907566            5   \n",
       "753293   278851           dallas, texas, usa  33.0  0884159221            7   \n",
       "753294   278851           dallas, texas, usa  33.0  0912333022            7   \n",
       "753295   278851           dallas, texas, usa  33.0  1569661057           10   \n",
       "\n",
       "                                               Book-Title         Book-Author  \\\n",
       "0                                     Classical Mythology  Mark P. O. Morford   \n",
       "1       New Vegetarian: Bold and Beautiful Recipes for...  Celia Brooks Brown   \n",
       "2       New Vegetarian: Bold and Beautiful Recipes for...  Celia Brooks Brown   \n",
       "3       New Vegetarian: Bold and Beautiful Recipes for...  Celia Brooks Brown   \n",
       "4       New Vegetarian: Bold and Beautiful Recipes for...  Celia Brooks Brown   \n",
       "...                                                   ...                 ...   \n",
       "753291  As Hogan Said . . . : The 389 Best Things Anyo...      Randy Voorhees   \n",
       "753292  All Elevations Unknown: An Adventure in the He...        Sam Lightner   \n",
       "753293  Why stop?: A guide to Texas historical roadsid...       Claude Dooley   \n",
       "753294  The Are You Being Served? Stories: 'Camping In...        Jeremy Lloyd   \n",
       "753295  Dallas Street Map Guide and Directory, 2000 Ed...              Mapsco   \n",
       "\n",
       "        Year-Of-Publication                      Publisher  \\\n",
       "0                      2002        Oxford University Press   \n",
       "1                      2001  Ryland Peters &amp; Small Ltd   \n",
       "2                      2001  Ryland Peters &amp; Small Ltd   \n",
       "3                      2001  Ryland Peters &amp; Small Ltd   \n",
       "4                      2001  Ryland Peters &amp; Small Ltd   \n",
       "...                     ...                            ...   \n",
       "753291                 2000           Simon &amp; Schuster   \n",
       "753292                 2001                 Broadway Books   \n",
       "753293                 1985                Lone Star Books   \n",
       "753294                 1997                     Kqed Books   \n",
       "753295                 1999       American Map Corporation   \n",
       "\n",
       "                                              Image-URL-S  \\\n",
       "0       http://images.amazon.com/images/P/0195153448.0...   \n",
       "1       http://images.amazon.com/images/P/1841721522.0...   \n",
       "2       http://images.amazon.com/images/P/1841721522.0...   \n",
       "3       http://images.amazon.com/images/P/1841721522.0...   \n",
       "4       http://images.amazon.com/images/P/1841721522.0...   \n",
       "...                                                   ...   \n",
       "753291  http://images.amazon.com/images/P/0743203763.0...   \n",
       "753292  http://images.amazon.com/images/P/0767907566.0...   \n",
       "753293  http://images.amazon.com/images/P/0884159221.0...   \n",
       "753294  http://images.amazon.com/images/P/0912333022.0...   \n",
       "753295  http://images.amazon.com/images/P/1569661057.0...   \n",
       "\n",
       "                                              Image-URL-M  \\\n",
       "0       http://images.amazon.com/images/P/0195153448.0...   \n",
       "1       http://images.amazon.com/images/P/1841721522.0...   \n",
       "2       http://images.amazon.com/images/P/1841721522.0...   \n",
       "3       http://images.amazon.com/images/P/1841721522.0...   \n",
       "4       http://images.amazon.com/images/P/1841721522.0...   \n",
       "...                                                   ...   \n",
       "753291  http://images.amazon.com/images/P/0743203763.0...   \n",
       "753292  http://images.amazon.com/images/P/0767907566.0...   \n",
       "753293  http://images.amazon.com/images/P/0884159221.0...   \n",
       "753294  http://images.amazon.com/images/P/0912333022.0...   \n",
       "753295  http://images.amazon.com/images/P/1569661057.0...   \n",
       "\n",
       "                                              Image-URL-L  \n",
       "0       http://images.amazon.com/images/P/0195153448.0...  \n",
       "1       http://images.amazon.com/images/P/1841721522.0...  \n",
       "2       http://images.amazon.com/images/P/1841721522.0...  \n",
       "3       http://images.amazon.com/images/P/1841721522.0...  \n",
       "4       http://images.amazon.com/images/P/1841721522.0...  \n",
       "...                                                   ...  \n",
       "753291  http://images.amazon.com/images/P/0743203763.0...  \n",
       "753292  http://images.amazon.com/images/P/0767907566.0...  \n",
       "753293  http://images.amazon.com/images/P/0884159221.0...  \n",
       "753294  http://images.amazon.com/images/P/0912333022.0...  \n",
       "753295  http://images.amazon.com/images/P/1569661057.0...  \n",
       "\n",
       "[753296 rows x 12 columns]>"
      ]
     },
     "execution_count": 13,
     "metadata": {},
     "output_type": "execute_result"
    }
   ],
   "source": [
    "book_ratings = pd.merge(book_ratings, books_df, on=\"ISBN\")\n",
    "book_ratings.head"
   ]
  },
  {
   "cell_type": "code",
   "execution_count": 14,
   "metadata": {},
   "outputs": [],
   "source": [
    "book_ratings['ISBN'] = pd.to_numeric(book_ratings['ISBN'], errors='coerce')\n",
    "book_ratings['ISBN'] = book_ratings['ISBN'].astype(str)"
   ]
  },
  {
   "cell_type": "code",
   "execution_count": 15,
   "metadata": {
    "colab": {
     "base_uri": "https://localhost:8080/"
    },
    "id": "fpkqHMsOod5-",
    "outputId": "5ecbf3b0-04c4-481c-8cc8-1044f7f8d10d"
   },
   "outputs": [],
   "source": [
    "# Remove strings that ended up in Age variable\n",
    "book_ratings['Age'] = book_ratings['Age'].astype(int)\n",
    "book_ratings['Age'] = book_ratings['Age'].astype(str)\n",
    "mask = (book_ratings['Age'].str.len() <= 2)"
   ]
  },
  {
   "cell_type": "code",
   "execution_count": 16,
   "metadata": {},
   "outputs": [
    {
     "data": {
      "text/plain": [
       "user_id                 int64\n",
       "Location               object\n",
       "Age                    object\n",
       "ISBN                   object\n",
       "Book-Rating             int64\n",
       "Book-Title             object\n",
       "Book-Author            object\n",
       "Year-Of-Publication     int32\n",
       "Publisher              object\n",
       "Image-URL-S            object\n",
       "Image-URL-M            object\n",
       "Image-URL-L            object\n",
       "dtype: object"
      ]
     },
     "execution_count": 16,
     "metadata": {},
     "output_type": "execute_result"
    }
   ],
   "source": [
    "book_ratings = book_ratings.loc[mask]\n",
    "book_ratings['Age'].shape\n",
    "book_ratings['Age'].astype(str).astype(int)\n",
    "book_ratings.dtypes"
   ]
  },
  {
   "cell_type": "code",
   "execution_count": 17,
   "metadata": {},
   "outputs": [
    {
     "name": "stderr",
     "output_type": "stream",
     "text": [
      "C:\\Users\\shyam\\AppData\\Local\\Temp\\ipykernel_7636\\2192435356.py:2: FutureWarning: The default value of regex will change from True to False in a future version.\n",
      "  book_ratings.ISBN =book_ratings.ISBN.str.replace(r'[^\\w\\d]+', '')\n",
      "C:\\Users\\shyam\\AppData\\Local\\Temp\\ipykernel_7636\\2192435356.py:2: SettingWithCopyWarning: \n",
      "A value is trying to be set on a copy of a slice from a DataFrame.\n",
      "Try using .loc[row_indexer,col_indexer] = value instead\n",
      "\n",
      "See the caveats in the documentation: https://pandas.pydata.org/pandas-docs/stable/user_guide/indexing.html#returning-a-view-versus-a-copy\n",
      "  book_ratings.ISBN =book_ratings.ISBN.str.replace(r'[^\\w\\d]+', '')\n"
     ]
    }
   ],
   "source": [
    "import numpy as np\n",
    "book_ratings.ISBN =book_ratings.ISBN.str.replace(r'[^\\w\\d]+', '')\n",
    "avg_ratings = book_ratings.groupby('ISBN')['Book-Rating'].mean().round().astype(np.int8)\n"
   ]
  },
  {
   "cell_type": "code",
   "execution_count": 18,
   "metadata": {},
   "outputs": [],
   "source": [
    "book_ratings.loc[book_ratings['Book-Rating'] == 0, 'Book-Rating'] = book_ratings.loc[book_ratings['Book-Rating'] == 0, 'ISBN'].map(avg_ratings)"
   ]
  },
  {
   "cell_type": "code",
   "execution_count": 19,
   "metadata": {},
   "outputs": [
    {
     "data": {
      "text/html": [
       "<div>\n",
       "<style scoped>\n",
       "    .dataframe tbody tr th:only-of-type {\n",
       "        vertical-align: middle;\n",
       "    }\n",
       "\n",
       "    .dataframe tbody tr th {\n",
       "        vertical-align: top;\n",
       "    }\n",
       "\n",
       "    .dataframe thead th {\n",
       "        text-align: right;\n",
       "    }\n",
       "</style>\n",
       "<table border=\"1\" class=\"dataframe\">\n",
       "  <thead>\n",
       "    <tr style=\"text-align: right;\">\n",
       "      <th></th>\n",
       "      <th>user_id</th>\n",
       "      <th>Book-Rating</th>\n",
       "      <th>Year-Of-Publication</th>\n",
       "    </tr>\n",
       "  </thead>\n",
       "  <tbody>\n",
       "    <tr>\n",
       "      <th>count</th>\n",
       "      <td>750270.000000</td>\n",
       "      <td>750270.000000</td>\n",
       "      <td>750270.000000</td>\n",
       "    </tr>\n",
       "    <tr>\n",
       "      <th>mean</th>\n",
       "      <td>141187.356440</td>\n",
       "      <td>3.998786</td>\n",
       "      <td>1967.714668</td>\n",
       "    </tr>\n",
       "    <tr>\n",
       "      <th>std</th>\n",
       "      <td>78777.014076</td>\n",
       "      <td>3.250217</td>\n",
       "      <td>233.216450</td>\n",
       "    </tr>\n",
       "    <tr>\n",
       "      <th>min</th>\n",
       "      <td>2.000000</td>\n",
       "      <td>0.000000</td>\n",
       "      <td>0.000000</td>\n",
       "    </tr>\n",
       "    <tr>\n",
       "      <th>25%</th>\n",
       "      <td>74453.000000</td>\n",
       "      <td>1.000000</td>\n",
       "      <td>1991.000000</td>\n",
       "    </tr>\n",
       "    <tr>\n",
       "      <th>50%</th>\n",
       "      <td>141472.000000</td>\n",
       "      <td>3.000000</td>\n",
       "      <td>1997.000000</td>\n",
       "    </tr>\n",
       "    <tr>\n",
       "      <th>75%</th>\n",
       "      <td>208622.000000</td>\n",
       "      <td>7.000000</td>\n",
       "      <td>2001.000000</td>\n",
       "    </tr>\n",
       "    <tr>\n",
       "      <th>max</th>\n",
       "      <td>278852.000000</td>\n",
       "      <td>10.000000</td>\n",
       "      <td>2050.000000</td>\n",
       "    </tr>\n",
       "  </tbody>\n",
       "</table>\n",
       "</div>"
      ],
      "text/plain": [
       "             user_id    Book-Rating  Year-Of-Publication\n",
       "count  750270.000000  750270.000000        750270.000000\n",
       "mean   141187.356440       3.998786          1967.714668\n",
       "std     78777.014076       3.250217           233.216450\n",
       "min         2.000000       0.000000             0.000000\n",
       "25%     74453.000000       1.000000          1991.000000\n",
       "50%    141472.000000       3.000000          1997.000000\n",
       "75%    208622.000000       7.000000          2001.000000\n",
       "max    278852.000000      10.000000          2050.000000"
      ]
     },
     "execution_count": 19,
     "metadata": {},
     "output_type": "execute_result"
    }
   ],
   "source": [
    "book_ratings.describe()"
   ]
  },
  {
   "cell_type": "code",
   "execution_count": 20,
   "metadata": {
    "colab": {
     "base_uri": "https://localhost:8080/"
    },
    "id": "HvNz3e_hrj_6",
    "outputId": "debc21a8-83f6-4f06-c79e-a4302e7a864e"
   },
   "outputs": [
    {
     "name": "stderr",
     "output_type": "stream",
     "text": [
      "C:\\Users\\shyam\\AppData\\Local\\Temp\\ipykernel_7636\\3401486928.py:4: SettingWithCopyWarning: \n",
      "A value is trying to be set on a copy of a slice from a DataFrame.\n",
      "Try using .loc[row_indexer,col_indexer] = value instead\n",
      "\n",
      "See the caveats in the documentation: https://pandas.pydata.org/pandas-docs/stable/user_guide/indexing.html#returning-a-view-versus-a-copy\n",
      "  book_ratings.Publisher = l1.transform(book_ratings.Publisher)\n",
      "C:\\Users\\shyam\\AppData\\Local\\Temp\\ipykernel_7636\\3401486928.py:7: SettingWithCopyWarning: \n",
      "A value is trying to be set on a copy of a slice from a DataFrame.\n",
      "Try using .loc[row_indexer,col_indexer] = value instead\n",
      "\n",
      "See the caveats in the documentation: https://pandas.pydata.org/pandas-docs/stable/user_guide/indexing.html#returning-a-view-versus-a-copy\n",
      "  book_ratings.Location = l1.transform(book_ratings.Location)\n",
      "C:\\Users\\shyam\\AppData\\Local\\Temp\\ipykernel_7636\\3401486928.py:10: SettingWithCopyWarning: \n",
      "A value is trying to be set on a copy of a slice from a DataFrame\n",
      "\n",
      "See the caveats in the documentation: https://pandas.pydata.org/pandas-docs/stable/user_guide/indexing.html#returning-a-view-versus-a-copy\n",
      "  book_ratings.rename(columns={\"Book-Title\": \"Title\"}, inplace = True)\n",
      "C:\\Users\\shyam\\AppData\\Local\\Temp\\ipykernel_7636\\3401486928.py:12: SettingWithCopyWarning: \n",
      "A value is trying to be set on a copy of a slice from a DataFrame.\n",
      "Try using .loc[row_indexer,col_indexer] = value instead\n",
      "\n",
      "See the caveats in the documentation: https://pandas.pydata.org/pandas-docs/stable/user_guide/indexing.html#returning-a-view-versus-a-copy\n",
      "  book_ratings.Title = l1.transform(book_ratings.Title)\n",
      "C:\\Users\\shyam\\AppData\\Local\\Temp\\ipykernel_7636\\3401486928.py:16: SettingWithCopyWarning: \n",
      "A value is trying to be set on a copy of a slice from a DataFrame\n",
      "\n",
      "See the caveats in the documentation: https://pandas.pydata.org/pandas-docs/stable/user_guide/indexing.html#returning-a-view-versus-a-copy\n",
      "  book_ratings.rename(columns={\"Book-Author\": \"Author\"}, inplace = True)\n",
      "C:\\Users\\shyam\\AppData\\Local\\Temp\\ipykernel_7636\\3401486928.py:17: SettingWithCopyWarning: \n",
      "A value is trying to be set on a copy of a slice from a DataFrame.\n",
      "Try using .loc[row_indexer,col_indexer] = value instead\n",
      "\n",
      "See the caveats in the documentation: https://pandas.pydata.org/pandas-docs/stable/user_guide/indexing.html#returning-a-view-versus-a-copy\n",
      "  book_ratings.Author = l1.transform(book_ratings.Author)\n"
     ]
    },
    {
     "data": {
      "text/plain": [
       "<bound method NDFrame.head of         user_id  Location Age         ISBN  Book-Rating   Title  Author  \\\n",
       "0             2     13746  18   1951534480            0   30755   55700   \n",
       "1            10       215  26  18417215220            2  109614   12108   \n",
       "2          3675      1000  24  18417215220            2  109614   12108   \n",
       "3          6366      8430  20  18417215220            7  109614   12108   \n",
       "4         13872      1000  17  18417215220            2  109614   12108   \n",
       "...         ...       ...  ..          ...          ...     ...     ...   \n",
       "753291   278851      3610  33   7432037630            0   14188   68612   \n",
       "753292   278851      3610  33   7679075660            5    9473   74607   \n",
       "753293   278851      3610  33   8841592210            7  199391   14323   \n",
       "753294   278851      3610  33   9123330220            7  149322   39281   \n",
       "753295   278851      3610  33  15696610570           10   36769   53900   \n",
       "\n",
       "        Year-Of-Publication  Publisher  \\\n",
       "0                      2002       9507   \n",
       "1                      2001      11239   \n",
       "2                      2001      11239   \n",
       "3                      2001      11239   \n",
       "4                      2001      11239   \n",
       "...                     ...        ...   \n",
       "753291                 2000      11829   \n",
       "753292                 2001       2022   \n",
       "753293                 1985       7725   \n",
       "753294                 1997       7174   \n",
       "753295                 1999        582   \n",
       "\n",
       "                                              Image-URL-S  \\\n",
       "0       http://images.amazon.com/images/P/0195153448.0...   \n",
       "1       http://images.amazon.com/images/P/1841721522.0...   \n",
       "2       http://images.amazon.com/images/P/1841721522.0...   \n",
       "3       http://images.amazon.com/images/P/1841721522.0...   \n",
       "4       http://images.amazon.com/images/P/1841721522.0...   \n",
       "...                                                   ...   \n",
       "753291  http://images.amazon.com/images/P/0743203763.0...   \n",
       "753292  http://images.amazon.com/images/P/0767907566.0...   \n",
       "753293  http://images.amazon.com/images/P/0884159221.0...   \n",
       "753294  http://images.amazon.com/images/P/0912333022.0...   \n",
       "753295  http://images.amazon.com/images/P/1569661057.0...   \n",
       "\n",
       "                                              Image-URL-M  \\\n",
       "0       http://images.amazon.com/images/P/0195153448.0...   \n",
       "1       http://images.amazon.com/images/P/1841721522.0...   \n",
       "2       http://images.amazon.com/images/P/1841721522.0...   \n",
       "3       http://images.amazon.com/images/P/1841721522.0...   \n",
       "4       http://images.amazon.com/images/P/1841721522.0...   \n",
       "...                                                   ...   \n",
       "753291  http://images.amazon.com/images/P/0743203763.0...   \n",
       "753292  http://images.amazon.com/images/P/0767907566.0...   \n",
       "753293  http://images.amazon.com/images/P/0884159221.0...   \n",
       "753294  http://images.amazon.com/images/P/0912333022.0...   \n",
       "753295  http://images.amazon.com/images/P/1569661057.0...   \n",
       "\n",
       "                                              Image-URL-L  \n",
       "0       http://images.amazon.com/images/P/0195153448.0...  \n",
       "1       http://images.amazon.com/images/P/1841721522.0...  \n",
       "2       http://images.amazon.com/images/P/1841721522.0...  \n",
       "3       http://images.amazon.com/images/P/1841721522.0...  \n",
       "4       http://images.amazon.com/images/P/1841721522.0...  \n",
       "...                                                   ...  \n",
       "753291  http://images.amazon.com/images/P/0743203763.0...  \n",
       "753292  http://images.amazon.com/images/P/0767907566.0...  \n",
       "753293  http://images.amazon.com/images/P/0884159221.0...  \n",
       "753294  http://images.amazon.com/images/P/0912333022.0...  \n",
       "753295  http://images.amazon.com/images/P/1569661057.0...  \n",
       "\n",
       "[750270 rows x 12 columns]>"
      ]
     },
     "execution_count": 20,
     "metadata": {},
     "output_type": "execute_result"
    }
   ],
   "source": [
    "# Encoding categorical variables\n",
    "l1 = LabelEncoder()\n",
    "l1.fit(book_ratings['Publisher'])\n",
    "book_ratings.Publisher = l1.transform(book_ratings.Publisher)\n",
    "\n",
    "l1.fit(book_ratings['Location'])\n",
    "book_ratings.Location = l1.transform(book_ratings.Location)\n",
    "\n",
    "\n",
    "book_ratings.rename(columns={\"Book-Title\": \"Title\"}, inplace = True)\n",
    "l1.fit(book_ratings['Title'])\n",
    "book_ratings.Title = l1.transform(book_ratings.Title)\n",
    "\n",
    "l1.fit(book_ratings['Book-Author'])\n",
    "\n",
    "book_ratings.rename(columns={\"Book-Author\": \"Author\"}, inplace = True)\n",
    "book_ratings.Author = l1.transform(book_ratings.Author)\n",
    "book_ratings.columns\n",
    "\n",
    "book_ratings.head"
   ]
  },
  {
   "cell_type": "markdown",
   "metadata": {
    "id": "fWclJd_-kWG6"
   },
   "source": [
    "### Split into Training and Testing datasets"
   ]
  },
  {
   "cell_type": "code",
   "execution_count": 21,
   "metadata": {},
   "outputs": [
    {
     "data": {
      "text/plain": [
       "Index(['user_id', 'Location', 'Age', 'ISBN', 'Book-Rating', 'Title', 'Author',\n",
       "       'Year-Of-Publication', 'Publisher', 'Image-URL-S', 'Image-URL-M',\n",
       "       'Image-URL-L'],\n",
       "      dtype='object')"
      ]
     },
     "execution_count": 21,
     "metadata": {},
     "output_type": "execute_result"
    }
   ],
   "source": [
    "book_ratings.columns"
   ]
  },
  {
   "cell_type": "code",
   "execution_count": 22,
   "metadata": {
    "id": "znElh6hPkZaO"
   },
   "outputs": [
    {
     "name": "stderr",
     "output_type": "stream",
     "text": [
      "C:\\Users\\shyam\\AppData\\Local\\Temp\\ipykernel_7636\\2257676693.py:2: SettingWithCopyWarning: \n",
      "A value is trying to be set on a copy of a slice from a DataFrame\n",
      "\n",
      "See the caveats in the documentation: https://pandas.pydata.org/pandas-docs/stable/user_guide/indexing.html#returning-a-view-versus-a-copy\n",
      "  book_ratings.drop(['Book-Rating', 'ISBN', 'Image-URL-S',\n"
     ]
    }
   ],
   "source": [
    "y= book_ratings[\"Book-Rating\"]\n",
    "book_ratings.drop(['Book-Rating', 'ISBN', 'Image-URL-S',\n",
    "       'Image-URL-M', 'Image-URL-L'], axis = 1, inplace=True)\n",
    "X = book_ratings[[\"Year-Of-Publication\",\"Age\"]]\n"
   ]
  },
  {
   "cell_type": "code",
   "execution_count": 23,
   "metadata": {},
   "outputs": [
    {
     "data": {
      "text/plain": [
       "Index(['user_id', 'Location', 'Age', 'Title', 'Author', 'Year-Of-Publication',\n",
       "       'Publisher'],\n",
       "      dtype='object')"
      ]
     },
     "execution_count": 23,
     "metadata": {},
     "output_type": "execute_result"
    }
   ],
   "source": [
    "book_ratings.columns"
   ]
  },
  {
   "cell_type": "code",
   "execution_count": 24,
   "metadata": {
    "id": "ho16TldDlnB4"
   },
   "outputs": [],
   "source": [
    "X_train, X_test, y_train, y_test = train_test_split(X, y, test_size = 0.2)"
   ]
  },
  {
   "cell_type": "markdown",
   "metadata": {
    "id": "3xbBlAcXmU7c"
   },
   "source": [
    "## KNN Model\n"
   ]
  },
  {
   "cell_type": "code",
   "execution_count": 25,
   "metadata": {
    "colab": {
     "base_uri": "https://localhost:8080/"
    },
    "id": "opcod0fzssPg",
    "outputId": "7e824e54-d7cb-4e1a-e2e2-74d467a8c8fd"
   },
   "outputs": [
    {
     "name": "stdout",
     "output_type": "stream",
     "text": [
      "Accuracy of model at K=3 is 0.164687379210151\n"
     ]
    }
   ],
   "source": [
    "k = 3\n",
    "neigh = KNeighborsClassifier(n_neighbors = k).fit(X_train,y_train)\n",
    "Pred_y = neigh.predict(X_test)\n",
    "print(\"Accuracy of model at K=3 is\",metrics.accuracy_score(y_test, Pred_y))"
   ]
  },
  {
   "cell_type": "markdown",
   "metadata": {
    "id": "Al6YzcEms3Js"
   },
   "source": [
    "## Optimize Model"
   ]
  },
  {
   "cell_type": "code",
   "execution_count": 26,
   "metadata": {
    "colab": {
     "base_uri": "https://localhost:8080/"
    },
    "id": "yur_1vSPmZUN",
    "outputId": "d9a94cc0-63b7-45f6-bf16-48d9499a5124"
   },
   "outputs": [
    {
     "name": "stdout",
     "output_type": "stream",
     "text": [
      "Accuracy of model at K=4 is 0.16755967851573433\n"
     ]
    }
   ],
   "source": [
    "k = 4  \n",
    "neigh = KNeighborsClassifier(n_neighbors = k).fit(X_train,y_train)\n",
    "Pred_y = neigh.predict(X_test)\n",
    "print(\"Accuracy of model at K=4 is\",metrics.accuracy_score(y_test, Pred_y))"
   ]
  },
  {
   "cell_type": "code",
   "execution_count": 27,
   "metadata": {
    "colab": {
     "base_uri": "https://localhost:8080/"
    },
    "id": "d1OGqmbqszuJ",
    "outputId": "58c0c486-66d1-4c0d-fd79-7f1d28b48e33"
   },
   "outputs": [
    {
     "name": "stdout",
     "output_type": "stream",
     "text": [
      "Accuracy of model at K=5 is 0.17079184826795688\n"
     ]
    }
   ],
   "source": [
    "k = 5  \n",
    "neigh = KNeighborsClassifier(n_neighbors = k).fit(X_train,y_train)\n",
    "Pred_y = neigh.predict(X_test)\n",
    "print(\"Accuracy of model at K=5 is\",metrics.accuracy_score(y_test, Pred_y))"
   ]
  },
  {
   "cell_type": "code",
   "execution_count": 28,
   "metadata": {
    "colab": {
     "base_uri": "https://localhost:8080/"
    },
    "id": "3cZJ5ie6s_6H",
    "outputId": "f4ecb09f-8a21-4991-a12f-13e8067b1f77"
   },
   "outputs": [
    {
     "name": "stdout",
     "output_type": "stream",
     "text": [
      "Accuracy of model at K=10 is 0.18053500739733697\n"
     ]
    }
   ],
   "source": [
    "k = 10\n",
    "neigh = KNeighborsClassifier(n_neighbors = k).fit(X_train,y_train)\n",
    "Pred_y = neigh.predict(X_test)\n",
    "print(\"Accuracy of model at K=10 is\",metrics.accuracy_score(y_test, Pred_y))"
   ]
  },
  {
   "cell_type": "code",
   "execution_count": 30,
   "metadata": {},
   "outputs": [
    {
     "data": {
      "text/html": [
       "<div>\n",
       "<style scoped>\n",
       "    .dataframe tbody tr th:only-of-type {\n",
       "        vertical-align: middle;\n",
       "    }\n",
       "\n",
       "    .dataframe tbody tr th {\n",
       "        vertical-align: top;\n",
       "    }\n",
       "\n",
       "    .dataframe thead th {\n",
       "        text-align: right;\n",
       "    }\n",
       "</style>\n",
       "<table border=\"1\" class=\"dataframe\">\n",
       "  <thead>\n",
       "    <tr style=\"text-align: right;\">\n",
       "      <th></th>\n",
       "      <th>Year-Of-Publication</th>\n",
       "      <th>Age</th>\n",
       "    </tr>\n",
       "  </thead>\n",
       "  <tbody>\n",
       "    <tr>\n",
       "      <th>402478</th>\n",
       "      <td>2001</td>\n",
       "      <td>34</td>\n",
       "    </tr>\n",
       "    <tr>\n",
       "      <th>507764</th>\n",
       "      <td>1962</td>\n",
       "      <td>43</td>\n",
       "    </tr>\n",
       "    <tr>\n",
       "      <th>269534</th>\n",
       "      <td>1992</td>\n",
       "      <td>35</td>\n",
       "    </tr>\n",
       "    <tr>\n",
       "      <th>377666</th>\n",
       "      <td>1982</td>\n",
       "      <td>3</td>\n",
       "    </tr>\n",
       "    <tr>\n",
       "      <th>592560</th>\n",
       "      <td>1977</td>\n",
       "      <td>35</td>\n",
       "    </tr>\n",
       "    <tr>\n",
       "      <th>...</th>\n",
       "      <td>...</td>\n",
       "      <td>...</td>\n",
       "    </tr>\n",
       "    <tr>\n",
       "      <th>172399</th>\n",
       "      <td>1998</td>\n",
       "      <td>46</td>\n",
       "    </tr>\n",
       "    <tr>\n",
       "      <th>123169</th>\n",
       "      <td>1998</td>\n",
       "      <td>39</td>\n",
       "    </tr>\n",
       "    <tr>\n",
       "      <th>29800</th>\n",
       "      <td>1986</td>\n",
       "      <td>17</td>\n",
       "    </tr>\n",
       "    <tr>\n",
       "      <th>315877</th>\n",
       "      <td>1995</td>\n",
       "      <td>32</td>\n",
       "    </tr>\n",
       "    <tr>\n",
       "      <th>542152</th>\n",
       "      <td>2003</td>\n",
       "      <td>25</td>\n",
       "    </tr>\n",
       "  </tbody>\n",
       "</table>\n",
       "<p>600216 rows × 2 columns</p>\n",
       "</div>"
      ],
      "text/plain": [
       "        Year-Of-Publication Age\n",
       "402478                 2001  34\n",
       "507764                 1962  43\n",
       "269534                 1992  35\n",
       "377666                 1982   3\n",
       "592560                 1977  35\n",
       "...                     ...  ..\n",
       "172399                 1998  46\n",
       "123169                 1998  39\n",
       "29800                  1986  17\n",
       "315877                 1995  32\n",
       "542152                 2003  25\n",
       "\n",
       "[600216 rows x 2 columns]"
      ]
     },
     "execution_count": 30,
     "metadata": {},
     "output_type": "execute_result"
    }
   ],
   "source": [
    "X_train"
   ]
  },
  {
   "cell_type": "code",
   "execution_count": 29,
   "metadata": {
    "colab": {
     "base_uri": "https://localhost:8080/"
    },
    "id": "b0XMWsp0U0ED",
    "outputId": "9f804205-9b81-48cc-8c81-7e78b66b15ae"
   },
   "outputs": [],
   "source": [
    "import pickle \n",
    "\n",
    "knnPickle = open('knn_model.pkl', 'wb') \n",
    "      \n",
    "# source, destination \n",
    "pickle.dump(neigh, knnPickle)  \n",
    "\n",
    "# close the file\n",
    "knnPickle.close()"
   ]
  }
 ],
 "metadata": {
  "colab": {
   "provenance": []
  },
  "kernelspec": {
   "display_name": "Python (Data_mining)",
   "language": "python",
   "name": "myenv"
  },
  "language_info": {
   "codemirror_mode": {
    "name": "ipython",
    "version": 3
   },
   "file_extension": ".py",
   "mimetype": "text/x-python",
   "name": "python",
   "nbconvert_exporter": "python",
   "pygments_lexer": "ipython3",
   "version": "3.9.10"
  }
 },
 "nbformat": 4,
 "nbformat_minor": 1
}
